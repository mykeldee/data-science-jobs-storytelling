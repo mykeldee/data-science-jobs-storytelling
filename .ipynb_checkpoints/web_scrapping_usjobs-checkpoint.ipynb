{
 "cells": [
  {
   "cell_type": "code",
   "execution_count": 1,
   "id": "3b0705a2",
   "metadata": {},
   "outputs": [],
   "source": [
    "import requests\n",
    "from bs4 import BeautifulSoup as bs\n",
    "import pandas as pd\n",
    "import time\n",
    "from datetime import datetime"
   ]
  },
  {
   "cell_type": "code",
   "execution_count": 17,
   "id": "5c507d8a",
   "metadata": {},
   "outputs": [],
   "source": [
    "headers = {'User-Agent':'Mozilla/5.0 (Windows NT 10.0; Win64; x64) AppleWebKit/537.36 (KHTML, like Gecko) Chrome/99.0.4844.51 Safari/537.36'}\n",
    "all_data = []\n",
    "\n",
    "def get_data(page):\n",
    "    url = f'https://www.usajobs.gov/Search/Results?jt=Data%20Scientist&p={page}'\n",
    "    r = requests.get(url, headers = headers)\n",
    "    soup = bs(r.text, 'html.parser')\n",
    "    jobs = soup.find_all('li', class_='clearfix job-bx wht-shd-bx')\n",
    "    for job in jobs:\n",
    "        data ={\n",
    "            \"job title\": job.find('h2').text.replace('  ','').replace('\\n',''), replace('\\r','')\n",
    "            \"company_name\": job.find('h3', class_='joblist-comp-name').text.replace('  ','').replace('\\n','').replace('\\r',''),\n",
    "            \"skills_required\": job.find('span', class_='srp-skills').text.replace('  ','').replace('\\n','').replace('\\r',''),\n",
    "            \"experience\": job.find('ul', class_='top-jd-dtl clearfix').find('li').text[11:],\n",
    "            \"location\": job.find('span').text.replace('  ',''),\n",
    "            }\n",
    "        all_data.append(data)\n",
    "    return"
   ]
  },
  {
   "cell_type": "code",
   "execution_count": 19,
   "id": "2a18dd05",
   "metadata": {},
   "outputs": [
    {
     "name": "stdout",
     "output_type": "stream",
     "text": [
      "loop 10 completed at 19:28:09\n",
      "loop 11 completed at 19:28:22\n",
      "loop 12 completed at 19:28:32\n",
      "loop 13 completed at 19:28:45\n",
      "loop 14 completed at 19:28:57\n",
      "loop 15 completed at 19:29:09\n",
      "loop 16 completed at 19:29:22\n",
      "loop 17 completed at 19:29:34\n",
      "loop 18 completed at 19:29:46\n",
      "loop 19 completed at 19:29:58\n",
      "loop 20 completed at 19:30:11\n",
      "loop 21 completed at 19:30:21\n",
      "loop 22 completed at 19:30:34\n",
      "loop 23 completed at 19:30:47\n",
      "loop 24 completed at 19:31:01\n",
      "loop 25 completed at 19:31:24\n",
      "loop 26 completed at 19:31:48\n",
      "Error ('Connection aborted.', ConnectionResetError(10054, 'An existing connection was forcibly closed by the remote host', None, 10054, None)) encountered at loop 27\n",
      "Error (\"Connection broken: ConnectionResetError(10054, 'An existing connection was forcibly closed by the remote host', None, 10054, None)\", ConnectionResetError(10054, 'An existing connection was forcibly closed by the remote host', None, 10054, None)) encountered at loop 28\n",
      "loop 29 completed at 19:32:48\n",
      "loop 30 completed at 19:33:03\n",
      "loop 31 completed at 19:33:16\n",
      "loop 32 completed at 19:33:30\n",
      "Error (\"Connection broken: ConnectionResetError(10054, 'An existing connection was forcibly closed by the remote host', None, 10054, None)\", ConnectionResetError(10054, 'An existing connection was forcibly closed by the remote host', None, 10054, None)) encountered at loop 33\n",
      "loop 34 completed at 19:34:05\n",
      "loop 35 completed at 19:34:23\n",
      "loop 36 completed at 19:34:48\n",
      "loop 37 completed at 19:35:12\n",
      "loop 38 completed at 19:35:32\n",
      "loop 39 completed at 19:35:53\n",
      "loop 40 completed at 19:36:12\n",
      "loop 41 completed at 19:36:28\n",
      "loop 42 completed at 19:36:47\n",
      "loop 43 completed at 19:37:00\n",
      "loop 44 completed at 19:37:14\n",
      "loop 45 completed at 19:37:29\n",
      "loop 46 completed at 19:37:42\n",
      "loop 47 completed at 19:37:56\n",
      "loop 48 completed at 19:38:12\n",
      "loop 49 completed at 19:38:27\n",
      "loop 50 completed at 19:38:45\n",
      "loop 51 completed at 19:39:00\n",
      "loop 52 completed at 19:39:13\n",
      "loop 53 completed at 19:39:28\n",
      "loop 54 completed at 19:39:40\n",
      "loop 55 completed at 19:39:53\n",
      "loop 56 completed at 19:40:09\n",
      "loop 57 completed at 19:40:23\n",
      "loop 58 completed at 19:40:40\n",
      "loop 59 completed at 19:40:56\n",
      "loop 60 completed at 19:41:10\n",
      "loop 61 completed at 19:41:22\n",
      "loop 62 completed at 19:41:38\n",
      "loop 63 completed at 19:41:50\n",
      "loop 64 completed at 19:42:03\n",
      "loop 65 completed at 19:42:16\n",
      "loop 66 completed at 19:42:30\n",
      "loop 67 completed at 19:42:45\n",
      "loop 68 completed at 19:42:59\n",
      "loop 69 completed at 19:43:12\n",
      "loop 70 completed at 19:43:25\n",
      "loop 71 completed at 19:43:38\n",
      "loop 72 completed at 19:43:50\n",
      "loop 73 completed at 19:44:03\n",
      "loop 74 completed at 19:44:15\n",
      "loop 75 completed at 19:44:28\n",
      "loop 76 completed at 19:44:40\n",
      "loop 77 completed at 19:45:20\n",
      "loop 78 completed at 19:45:32\n",
      "loop 79 completed at 19:45:45\n",
      "loop 80 completed at 19:45:58\n",
      "loop 81 completed at 19:46:12\n",
      "loop 82 completed at 19:46:25\n",
      "loop 83 completed at 19:46:41\n",
      "loop 84 completed at 19:46:54\n",
      "loop 85 completed at 19:47:08\n",
      "Error (\"Connection broken: ConnectionResetError(10054, 'An existing connection was forcibly closed by the remote host', None, 10054, None)\", ConnectionResetError(10054, 'An existing connection was forcibly closed by the remote host', None, 10054, None)) encountered at loop 86\n",
      "loop 87 completed at 19:47:31\n",
      "loop 88 completed at 19:47:44\n",
      "loop 89 completed at 19:47:57\n",
      "loop 90 completed at 19:48:13\n",
      "loop 91 completed at 19:48:36\n",
      "loop 92 completed at 19:49:02\n",
      "loop 93 completed at 19:49:17\n",
      "loop 94 completed at 19:49:42\n",
      "loop 95 completed at 19:50:02\n",
      "loop 96 completed at 19:50:25\n",
      "loop 97 completed at 19:50:39\n",
      "loop 98 completed at 19:50:53\n",
      "loop 99 completed at 19:51:06\n",
      "loop 100 completed at 19:51:20\n",
      "loop 101 completed at 19:51:35\n",
      "loop 102 completed at 19:51:49\n",
      "loop 103 completed at 19:52:02\n",
      "loop 104 completed at 19:52:16\n",
      "loop 105 completed at 19:52:30\n",
      "loop 106 completed at 19:52:44\n",
      "loop 107 completed at 19:52:57\n",
      "loop 108 completed at 19:53:09\n",
      "loop 109 completed at 19:53:22\n",
      "loop 110 completed at 19:53:35\n",
      "loop 111 completed at 19:53:49\n",
      "loop 112 completed at 19:54:03\n",
      "loop 113 completed at 19:54:16\n",
      "loop 114 completed at 19:54:30\n",
      "loop 115 completed at 19:54:43\n",
      "loop 116 completed at 19:54:57\n",
      "loop 117 completed at 19:55:11\n",
      "loop 118 completed at 19:55:25\n",
      "loop 119 completed at 19:55:39\n",
      "loop 120 completed at 19:55:53\n",
      "loop 121 completed at 19:56:05\n",
      "loop 122 completed at 19:56:18\n",
      "loop 123 completed at 19:56:31\n",
      "loop 124 completed at 19:56:44\n",
      "loop 125 completed at 19:56:57\n",
      "loop 126 completed at 19:57:10\n",
      "loop 127 completed at 19:57:22\n",
      "loop 128 completed at 19:57:34\n",
      "loop 129 completed at 19:57:48\n",
      "loop 130 completed at 19:58:02\n",
      "loop 131 completed at 19:58:16\n",
      "loop 132 completed at 19:58:29\n",
      "loop 133 completed at 19:58:42\n",
      "loop 134 completed at 19:58:54\n",
      "loop 135 completed at 19:59:07\n",
      "loop 136 completed at 19:59:19\n",
      "loop 137 completed at 19:59:33\n",
      "loop 138 completed at 19:59:45\n",
      "loop 139 completed at 19:59:57\n",
      "loop 140 completed at 20:00:12\n",
      "loop 141 completed at 20:00:26\n",
      "loop 142 completed at 20:00:41\n",
      "loop 143 completed at 20:00:54\n",
      "loop 144 completed at 20:01:09\n",
      "loop 145 completed at 20:01:23\n",
      "loop 146 completed at 20:01:36\n",
      "loop 147 completed at 20:01:51\n",
      "loop 148 completed at 20:02:04\n",
      "loop 149 completed at 20:02:17\n",
      "loop 150 completed at 20:02:32\n",
      "loop 151 completed at 20:02:55\n",
      "loop 152 completed at 20:03:11\n",
      "loop 153 completed at 20:03:25\n",
      "loop 154 completed at 20:03:41\n",
      "loop 155 completed at 20:03:59\n",
      "loop 156 completed at 20:04:14\n",
      "Error (\"Connection broken: ConnectionResetError(10054, 'An existing connection was forcibly closed by the remote host', None, 10054, None)\", ConnectionResetError(10054, 'An existing connection was forcibly closed by the remote host', None, 10054, None)) encountered at loop 157\n",
      "loop 158 completed at 20:04:35\n",
      "loop 159 completed at 20:04:49\n",
      "loop 160 completed at 20:05:03\n",
      "loop 161 completed at 20:05:18\n",
      "loop 162 completed at 20:05:33\n",
      "loop 163 completed at 20:05:47\n",
      "loop 164 completed at 20:06:01\n",
      "loop 165 completed at 20:06:15\n",
      "loop 166 completed at 20:06:32\n",
      "loop 167 completed at 20:06:54\n",
      "loop 168 completed at 20:07:12\n",
      "loop 169 completed at 20:07:30\n",
      "loop 170 completed at 20:07:39\n",
      "loop 171 completed at 20:07:48\n",
      "loop 172 completed at 20:07:56\n",
      "loop 173 completed at 20:08:07\n",
      "loop 174 completed at 20:08:17\n",
      "loop 175 completed at 20:08:25\n",
      "loop 176 completed at 20:08:33\n",
      "loop 177 completed at 20:08:41\n",
      "loop 178 completed at 20:08:48\n",
      "loop 179 completed at 20:08:56\n",
      "loop 180 completed at 20:09:04\n",
      "loop 181 completed at 20:09:13\n",
      "loop 182 completed at 20:09:22\n",
      "loop 183 completed at 20:09:30\n",
      "loop 184 completed at 20:09:38\n",
      "loop 185 completed at 20:09:46\n",
      "loop 186 completed at 20:09:53\n",
      "loop 187 completed at 20:10:01\n",
      "loop 188 completed at 20:10:09\n",
      "loop 189 completed at 20:10:18\n",
      "loop 190 completed at 20:10:25\n",
      "loop 191 completed at 20:10:33\n",
      "loop 192 completed at 20:10:41\n",
      "loop 193 completed at 20:10:49\n",
      "loop 194 completed at 20:10:56\n",
      "loop 195 completed at 20:11:05\n",
      "loop 196 completed at 20:11:13\n",
      "loop 197 completed at 20:11:21\n",
      "loop 198 completed at 20:11:31\n",
      "loop 199 completed at 20:11:40\n"
     ]
    }
   ],
   "source": [
    "for i in range(1,20):\n",
    "    for p in range (0, 10):\n",
    "        try:            \n",
    "            get_data(i,p)\n",
    "            now=datetime.now()\n",
    "            print(f'loop {i}{p} completed at {now.strftime(\"%H:%M:%S\")}')\n",
    "            time.sleep(2)\n",
    "        except Exception as e:\n",
    "            print(f'Error {e} encountered at loop {i}{p}')"
   ]
  },
  {
   "cell_type": "code",
   "execution_count": 20,
   "id": "6e390fca",
   "metadata": {},
   "outputs": [],
   "source": [
    "df = pd.DataFrame(all_data)\n",
    "df.to_csv('joblistings.csv')"
   ]
  },
  {
   "cell_type": "code",
   "execution_count": 10,
   "id": "673de589",
   "metadata": {},
   "outputs": [],
   "source": [
    "my_data = pd.read_csv('job_listings.csv')"
   ]
  },
  {
   "cell_type": "code",
   "execution_count": 11,
   "id": "b92ab92e",
   "metadata": {},
   "outputs": [
    {
     "data": {
      "text/plain": [
       "2875"
      ]
     },
     "execution_count": 11,
     "metadata": {},
     "output_type": "execute_result"
    }
   ],
   "source": [
    "len(my_data)"
   ]
  },
  {
   "cell_type": "code",
   "execution_count": 14,
   "id": "fbdf18dc",
   "metadata": {},
   "outputs": [],
   "source": [
    "towns = my_data['location'].unique()"
   ]
  },
  {
   "cell_type": "code",
   "execution_count": 15,
   "id": "2a473c65",
   "metadata": {},
   "outputs": [
    {
     "data": {
      "text/plain": [
       "43"
      ]
     },
     "execution_count": 15,
     "metadata": {},
     "output_type": "execute_result"
    }
   ],
   "source": [
    "len(towns)"
   ]
  },
  {
   "cell_type": "code",
   "execution_count": 16,
   "id": "f50ba7ce",
   "metadata": {},
   "outputs": [
    {
     "data": {
      "text/plain": [
       "array(['Ireland', 'Bengaluru / Bangalore', nan, 'Noida/Greater Noida',\n",
       "       'Gurgaon', 'Mumbai,Bengaluru / Bangalore', 'Pune',\n",
       "       'Gurgaon,Delhi,Delhi/NCR', 'Delhi,Delhi/NCR', 'Canada', 'Mumbai',\n",
       "       'Singapore,Chennai', 'Singapore', 'Abu Dhabi',\n",
       "       'Delhi,Chennai,Delhi/NCR,Pune', 'Switzerland', 'France',\n",
       "       'Portland', 'Chicago', 'Pune,Bengaluru / Bangalore',\n",
       "       'New York City', 'Calicut/ Kozhikode', 'Kandla',\n",
       "       'Navi Mumbai,Mumbai', 'Hyderabad/Secunderabad',\n",
       "       'Netherlands,Germany,null,null,null',\n",
       "       'Delhi,Chennai,Delhi/NCR,Kolkata', 'Jeddah', 'Washington DC',\n",
       "       '(More Jobs) ', 'Mumbai,Pune,Bengaluru / Bangalore', 'Germany',\n",
       "       'Australia', 'Mexico', 'Chennai', 'Spain', 'China', 'Kolkata',\n",
       "       'Belgium', 'Indonesia', 'Philippines', 'Ahmedabad', 'Mohali'],\n",
       "      dtype=object)"
      ]
     },
     "execution_count": 16,
     "metadata": {},
     "output_type": "execute_result"
    }
   ],
   "source": [
    "towns"
   ]
  },
  {
   "cell_type": "code",
   "execution_count": null,
   "id": "d1eb633c",
   "metadata": {},
   "outputs": [],
   "source": []
  }
 ],
 "metadata": {
  "kernelspec": {
   "display_name": "Python 3 (ipykernel)",
   "language": "python",
   "name": "python3"
  },
  "language_info": {
   "codemirror_mode": {
    "name": "ipython",
    "version": 3
   },
   "file_extension": ".py",
   "mimetype": "text/x-python",
   "name": "python",
   "nbconvert_exporter": "python",
   "pygments_lexer": "ipython3",
   "version": "3.9.7"
  }
 },
 "nbformat": 4,
 "nbformat_minor": 5
}
