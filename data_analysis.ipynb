{
 "cells": [
  {
   "cell_type": "code",
   "execution_count": 1,
   "id": "1824c0cd",
   "metadata": {},
   "outputs": [],
   "source": [
    "import pandas as pd\n",
    "import seaborn as sns\n",
    "from matplotlib import pyplot as plt"
   ]
  },
  {
   "cell_type": "code",
   "execution_count": 2,
   "id": "76a63f0b",
   "metadata": {},
   "outputs": [],
   "source": [
    "data = pd.read_csv('joblistings.csv')"
   ]
  },
  {
   "cell_type": "code",
   "execution_count": 3,
   "id": "ac76586b",
   "metadata": {},
   "outputs": [
    {
     "data": {
      "text/html": [
       "<div>\n",
       "<style scoped>\n",
       "    .dataframe tbody tr th:only-of-type {\n",
       "        vertical-align: middle;\n",
       "    }\n",
       "\n",
       "    .dataframe tbody tr th {\n",
       "        vertical-align: top;\n",
       "    }\n",
       "\n",
       "    .dataframe thead th {\n",
       "        text-align: right;\n",
       "    }\n",
       "</style>\n",
       "<table border=\"1\" class=\"dataframe\">\n",
       "  <thead>\n",
       "    <tr style=\"text-align: right;\">\n",
       "      <th></th>\n",
       "      <th>Unnamed: 0</th>\n",
       "      <th>job title</th>\n",
       "      <th>company_name</th>\n",
       "      <th>skills_required</th>\n",
       "      <th>experience</th>\n",
       "      <th>location</th>\n",
       "    </tr>\n",
       "  </thead>\n",
       "  <tbody>\n",
       "    <tr>\n",
       "      <th>0</th>\n",
       "      <td>0</td>\n",
       "      <td>\\rSenior Consultant - Data science</td>\n",
       "      <td>Analytics Vidhya</td>\n",
       "      <td>visualization,business requirements,data scien...</td>\n",
       "      <td>6 - 9 yrs</td>\n",
       "      <td>Bengaluru / Bangalore</td>\n",
       "    </tr>\n",
       "    <tr>\n",
       "      <th>1</th>\n",
       "      <td>1</td>\n",
       "      <td>Data and Feed Specialist</td>\n",
       "      <td>lastminute.com group</td>\n",
       "      <td>mobile,team player,Productsup</td>\n",
       "      <td>0 - 3 yrs</td>\n",
       "      <td>Switzerland</td>\n",
       "    </tr>\n",
       "    <tr>\n",
       "      <th>2</th>\n",
       "      <td>2</td>\n",
       "      <td>\\rInside Sales- Data Analytics</td>\n",
       "      <td>The Higher Pitch</td>\n",
       "      <td>demand generation,campaigns,webinar,performanc...</td>\n",
       "      <td>2 - 6 yrs</td>\n",
       "      <td>Noida/Greater Noida</td>\n",
       "    </tr>\n",
       "    <tr>\n",
       "      <th>3</th>\n",
       "      <td>3</td>\n",
       "      <td>Data Engineer - Search - Link</td>\n",
       "      <td>Veeva Systems</td>\n",
       "      <td>algorithms,lucene,elastic search,apache,java,s...</td>\n",
       "      <td>0 - 3 yrs</td>\n",
       "      <td>Spain</td>\n",
       "    </tr>\n",
       "    <tr>\n",
       "      <th>4</th>\n",
       "      <td>4</td>\n",
       "      <td>\\rVeeva Systems - Data Engineer</td>\n",
       "      <td>Veeva Systems</td>\n",
       "      <td>algorithms,apache,java,san,python,machine lear...</td>\n",
       "      <td>0 - 3 yrs</td>\n",
       "      <td>Spain</td>\n",
       "    </tr>\n",
       "  </tbody>\n",
       "</table>\n",
       "</div>"
      ],
      "text/plain": [
       "   Unnamed: 0                            job title          company_name  \\\n",
       "0           0  \\rSenior Consultant - Data science       Analytics Vidhya   \n",
       "1           1            Data and Feed Specialist   lastminute.com group   \n",
       "2           2      \\rInside Sales- Data Analytics       The Higher Pitch   \n",
       "3           3       Data Engineer - Search - Link          Veeva Systems   \n",
       "4           4     \\rVeeva Systems - Data Engineer          Veeva Systems   \n",
       "\n",
       "                                     skills_required experience  \\\n",
       "0  visualization,business requirements,data scien...  6 - 9 yrs   \n",
       "1                      mobile,team player,Productsup  0 - 3 yrs   \n",
       "2  demand generation,campaigns,webinar,performanc...  2 - 6 yrs   \n",
       "3  algorithms,lucene,elastic search,apache,java,s...  0 - 3 yrs   \n",
       "4  algorithms,apache,java,san,python,machine lear...  0 - 3 yrs   \n",
       "\n",
       "                location  \n",
       "0  Bengaluru / Bangalore  \n",
       "1            Switzerland  \n",
       "2    Noida/Greater Noida  \n",
       "3                  Spain  \n",
       "4                  Spain  "
      ]
     },
     "execution_count": 3,
     "metadata": {},
     "output_type": "execute_result"
    }
   ],
   "source": [
    "data.head()"
   ]
  },
  {
   "cell_type": "markdown",
   "id": "f13124c7",
   "metadata": {},
   "source": [
    "### Data Cleaning"
   ]
  },
  {
   "cell_type": "code",
   "execution_count": 4,
   "id": "9d6a04a5",
   "metadata": {},
   "outputs": [],
   "source": [
    "data.drop(columns = 'Unnamed: 0', inplace = True)"
   ]
  },
  {
   "cell_type": "code",
   "execution_count": 5,
   "id": "411fd7a6",
   "metadata": {},
   "outputs": [],
   "source": [
    "data['experience'] = data['experience'].str.replace(\" \",\"\", regex = True)\n",
    "data['job title'] = data['job title'].str.replace(\"\\r\",\"\", regex = True)"
   ]
  },
  {
   "cell_type": "code",
   "execution_count": 6,
   "id": "6dde19f4",
   "metadata": {},
   "outputs": [
    {
     "data": {
      "text/html": [
       "<div>\n",
       "<style scoped>\n",
       "    .dataframe tbody tr th:only-of-type {\n",
       "        vertical-align: middle;\n",
       "    }\n",
       "\n",
       "    .dataframe tbody tr th {\n",
       "        vertical-align: top;\n",
       "    }\n",
       "\n",
       "    .dataframe thead th {\n",
       "        text-align: right;\n",
       "    }\n",
       "</style>\n",
       "<table border=\"1\" class=\"dataframe\">\n",
       "  <thead>\n",
       "    <tr style=\"text-align: right;\">\n",
       "      <th></th>\n",
       "      <th>job title</th>\n",
       "      <th>company_name</th>\n",
       "      <th>skills_required</th>\n",
       "      <th>experience</th>\n",
       "      <th>location</th>\n",
       "    </tr>\n",
       "  </thead>\n",
       "  <tbody>\n",
       "    <tr>\n",
       "      <th>0</th>\n",
       "      <td>Senior Consultant - Data science</td>\n",
       "      <td>Analytics Vidhya</td>\n",
       "      <td>visualization,business requirements,data scien...</td>\n",
       "      <td>6-9yrs</td>\n",
       "      <td>Bengaluru / Bangalore</td>\n",
       "    </tr>\n",
       "    <tr>\n",
       "      <th>1</th>\n",
       "      <td>Data and Feed Specialist</td>\n",
       "      <td>lastminute.com group</td>\n",
       "      <td>mobile,team player,Productsup</td>\n",
       "      <td>0-3yrs</td>\n",
       "      <td>Switzerland</td>\n",
       "    </tr>\n",
       "    <tr>\n",
       "      <th>2</th>\n",
       "      <td>Inside Sales- Data Analytics</td>\n",
       "      <td>The Higher Pitch</td>\n",
       "      <td>demand generation,campaigns,webinar,performanc...</td>\n",
       "      <td>2-6yrs</td>\n",
       "      <td>Noida/Greater Noida</td>\n",
       "    </tr>\n",
       "    <tr>\n",
       "      <th>3</th>\n",
       "      <td>Data Engineer - Search - Link</td>\n",
       "      <td>Veeva Systems</td>\n",
       "      <td>algorithms,lucene,elastic search,apache,java,s...</td>\n",
       "      <td>0-3yrs</td>\n",
       "      <td>Spain</td>\n",
       "    </tr>\n",
       "    <tr>\n",
       "      <th>4</th>\n",
       "      <td>Veeva Systems - Data Engineer</td>\n",
       "      <td>Veeva Systems</td>\n",
       "      <td>algorithms,apache,java,san,python,machine lear...</td>\n",
       "      <td>0-3yrs</td>\n",
       "      <td>Spain</td>\n",
       "    </tr>\n",
       "    <tr>\n",
       "      <th>...</th>\n",
       "      <td>...</td>\n",
       "      <td>...</td>\n",
       "      <td>...</td>\n",
       "      <td>...</td>\n",
       "      <td>...</td>\n",
       "    </tr>\n",
       "    <tr>\n",
       "      <th>77495</th>\n",
       "      <td>Senior Software Engineer-Technology</td>\n",
       "      <td>cardekho.com</td>\n",
       "      <td>senior software engineer,sql,elastic search,da...</td>\n",
       "      <td>3-5yrs</td>\n",
       "      <td>Gurgaon</td>\n",
       "    </tr>\n",
       "    <tr>\n",
       "      <th>77496</th>\n",
       "      <td>Digital Marketing</td>\n",
       "      <td>cirkle studio pvt ltd</td>\n",
       "      <td>digital marketing,social media,Web Analytics</td>\n",
       "      <td>2-5yrs</td>\n",
       "      <td>Surat</td>\n",
       "    </tr>\n",
       "    <tr>\n",
       "      <th>77497</th>\n",
       "      <td>VP ,Treaty Underwriting</td>\n",
       "      <td>QBE Insurance Group Limited</td>\n",
       "      <td>accounting,loss,legal,forecasting,budget plann...</td>\n",
       "      <td>7-10yrs</td>\n",
       "      <td>NaN</td>\n",
       "    </tr>\n",
       "    <tr>\n",
       "      <th>77498</th>\n",
       "      <td>Business Analyst With IIBA</td>\n",
       "      <td>WHITE FORCE</td>\n",
       "      <td>information technology,java,system development...</td>\n",
       "      <td>7-10yrs</td>\n",
       "      <td>Gurgaon</td>\n",
       "    </tr>\n",
       "    <tr>\n",
       "      <th>77499</th>\n",
       "      <td>Java Developer</td>\n",
       "      <td>WHITE FORCE</td>\n",
       "      <td>jsp,hibernate,sql,spring,security,wsdl,java,xm...</td>\n",
       "      <td>5-10yrs</td>\n",
       "      <td>Gurgaon</td>\n",
       "    </tr>\n",
       "  </tbody>\n",
       "</table>\n",
       "<p>77500 rows × 5 columns</p>\n",
       "</div>"
      ],
      "text/plain": [
       "                                  job title                 company_name  \\\n",
       "0         Senior Consultant - Data science              Analytics Vidhya   \n",
       "1                 Data and Feed Specialist          lastminute.com group   \n",
       "2             Inside Sales- Data Analytics              The Higher Pitch   \n",
       "3            Data Engineer - Search - Link                 Veeva Systems   \n",
       "4            Veeva Systems - Data Engineer                 Veeva Systems   \n",
       "...                                     ...                          ...   \n",
       "77495  Senior Software Engineer-Technology                  cardekho.com   \n",
       "77496                    Digital Marketing         cirkle studio pvt ltd   \n",
       "77497              VP ,Treaty Underwriting   QBE Insurance Group Limited   \n",
       "77498           Business Analyst With IIBA                   WHITE FORCE   \n",
       "77499                       Java Developer                   WHITE FORCE   \n",
       "\n",
       "                                         skills_required experience  \\\n",
       "0      visualization,business requirements,data scien...     6-9yrs   \n",
       "1                          mobile,team player,Productsup     0-3yrs   \n",
       "2      demand generation,campaigns,webinar,performanc...     2-6yrs   \n",
       "3      algorithms,lucene,elastic search,apache,java,s...     0-3yrs   \n",
       "4      algorithms,apache,java,san,python,machine lear...     0-3yrs   \n",
       "...                                                  ...        ...   \n",
       "77495  senior software engineer,sql,elastic search,da...     3-5yrs   \n",
       "77496       digital marketing,social media,Web Analytics     2-5yrs   \n",
       "77497  accounting,loss,legal,forecasting,budget plann...    7-10yrs   \n",
       "77498  information technology,java,system development...    7-10yrs   \n",
       "77499  jsp,hibernate,sql,spring,security,wsdl,java,xm...    5-10yrs   \n",
       "\n",
       "                    location  \n",
       "0      Bengaluru / Bangalore  \n",
       "1                Switzerland  \n",
       "2        Noida/Greater Noida  \n",
       "3                      Spain  \n",
       "4                      Spain  \n",
       "...                      ...  \n",
       "77495                Gurgaon  \n",
       "77496                  Surat  \n",
       "77497                    NaN  \n",
       "77498                Gurgaon  \n",
       "77499                Gurgaon  \n",
       "\n",
       "[77500 rows x 5 columns]"
      ]
     },
     "execution_count": 6,
     "metadata": {},
     "output_type": "execute_result"
    }
   ],
   "source": [
    "data"
   ]
  },
  {
   "cell_type": "code",
   "execution_count": 7,
   "id": "58678f1f",
   "metadata": {},
   "outputs": [],
   "source": [
    "data['experience'] = data['experience'].str.rstrip('yrs')\n",
    "data[['min_exp', 'max_exp']] = data[\"experience\"].str.split(\"-\", n = 1, expand = True)\n",
    "data[[\"min_exp\", \"max_exp\"]] = data[[\"min_exp\", \"max_exp\"]].apply(pd.to_numeric)"
   ]
  },
  {
   "cell_type": "code",
   "execution_count": 8,
   "id": "b8929edb",
   "metadata": {},
   "outputs": [
    {
     "data": {
      "text/html": [
       "<div>\n",
       "<style scoped>\n",
       "    .dataframe tbody tr th:only-of-type {\n",
       "        vertical-align: middle;\n",
       "    }\n",
       "\n",
       "    .dataframe tbody tr th {\n",
       "        vertical-align: top;\n",
       "    }\n",
       "\n",
       "    .dataframe thead th {\n",
       "        text-align: right;\n",
       "    }\n",
       "</style>\n",
       "<table border=\"1\" class=\"dataframe\">\n",
       "  <thead>\n",
       "    <tr style=\"text-align: right;\">\n",
       "      <th></th>\n",
       "      <th>job title</th>\n",
       "      <th>company_name</th>\n",
       "      <th>skills_required</th>\n",
       "      <th>experience</th>\n",
       "      <th>location</th>\n",
       "      <th>min_exp</th>\n",
       "      <th>max_exp</th>\n",
       "    </tr>\n",
       "  </thead>\n",
       "  <tbody>\n",
       "    <tr>\n",
       "      <th>0</th>\n",
       "      <td>Senior Consultant - Data science</td>\n",
       "      <td>Analytics Vidhya</td>\n",
       "      <td>visualization,business requirements,data scien...</td>\n",
       "      <td>6-9</td>\n",
       "      <td>Bengaluru / Bangalore</td>\n",
       "      <td>6</td>\n",
       "      <td>9</td>\n",
       "    </tr>\n",
       "    <tr>\n",
       "      <th>1</th>\n",
       "      <td>Data and Feed Specialist</td>\n",
       "      <td>lastminute.com group</td>\n",
       "      <td>mobile,team player,Productsup</td>\n",
       "      <td>0-3</td>\n",
       "      <td>Switzerland</td>\n",
       "      <td>0</td>\n",
       "      <td>3</td>\n",
       "    </tr>\n",
       "    <tr>\n",
       "      <th>2</th>\n",
       "      <td>Inside Sales- Data Analytics</td>\n",
       "      <td>The Higher Pitch</td>\n",
       "      <td>demand generation,campaigns,webinar,performanc...</td>\n",
       "      <td>2-6</td>\n",
       "      <td>Noida/Greater Noida</td>\n",
       "      <td>2</td>\n",
       "      <td>6</td>\n",
       "    </tr>\n",
       "    <tr>\n",
       "      <th>3</th>\n",
       "      <td>Data Engineer - Search - Link</td>\n",
       "      <td>Veeva Systems</td>\n",
       "      <td>algorithms,lucene,elastic search,apache,java,s...</td>\n",
       "      <td>0-3</td>\n",
       "      <td>Spain</td>\n",
       "      <td>0</td>\n",
       "      <td>3</td>\n",
       "    </tr>\n",
       "    <tr>\n",
       "      <th>4</th>\n",
       "      <td>Veeva Systems - Data Engineer</td>\n",
       "      <td>Veeva Systems</td>\n",
       "      <td>algorithms,apache,java,san,python,machine lear...</td>\n",
       "      <td>0-3</td>\n",
       "      <td>Spain</td>\n",
       "      <td>0</td>\n",
       "      <td>3</td>\n",
       "    </tr>\n",
       "    <tr>\n",
       "      <th>...</th>\n",
       "      <td>...</td>\n",
       "      <td>...</td>\n",
       "      <td>...</td>\n",
       "      <td>...</td>\n",
       "      <td>...</td>\n",
       "      <td>...</td>\n",
       "      <td>...</td>\n",
       "    </tr>\n",
       "    <tr>\n",
       "      <th>77495</th>\n",
       "      <td>Senior Software Engineer-Technology</td>\n",
       "      <td>cardekho.com</td>\n",
       "      <td>senior software engineer,sql,elastic search,da...</td>\n",
       "      <td>3-5</td>\n",
       "      <td>Gurgaon</td>\n",
       "      <td>3</td>\n",
       "      <td>5</td>\n",
       "    </tr>\n",
       "    <tr>\n",
       "      <th>77496</th>\n",
       "      <td>Digital Marketing</td>\n",
       "      <td>cirkle studio pvt ltd</td>\n",
       "      <td>digital marketing,social media,Web Analytics</td>\n",
       "      <td>2-5</td>\n",
       "      <td>Surat</td>\n",
       "      <td>2</td>\n",
       "      <td>5</td>\n",
       "    </tr>\n",
       "    <tr>\n",
       "      <th>77497</th>\n",
       "      <td>VP ,Treaty Underwriting</td>\n",
       "      <td>QBE Insurance Group Limited</td>\n",
       "      <td>accounting,loss,legal,forecasting,budget plann...</td>\n",
       "      <td>7-10</td>\n",
       "      <td>NaN</td>\n",
       "      <td>7</td>\n",
       "      <td>10</td>\n",
       "    </tr>\n",
       "    <tr>\n",
       "      <th>77498</th>\n",
       "      <td>Business Analyst With IIBA</td>\n",
       "      <td>WHITE FORCE</td>\n",
       "      <td>information technology,java,system development...</td>\n",
       "      <td>7-10</td>\n",
       "      <td>Gurgaon</td>\n",
       "      <td>7</td>\n",
       "      <td>10</td>\n",
       "    </tr>\n",
       "    <tr>\n",
       "      <th>77499</th>\n",
       "      <td>Java Developer</td>\n",
       "      <td>WHITE FORCE</td>\n",
       "      <td>jsp,hibernate,sql,spring,security,wsdl,java,xm...</td>\n",
       "      <td>5-10</td>\n",
       "      <td>Gurgaon</td>\n",
       "      <td>5</td>\n",
       "      <td>10</td>\n",
       "    </tr>\n",
       "  </tbody>\n",
       "</table>\n",
       "<p>77500 rows × 7 columns</p>\n",
       "</div>"
      ],
      "text/plain": [
       "                                  job title                 company_name  \\\n",
       "0         Senior Consultant - Data science              Analytics Vidhya   \n",
       "1                 Data and Feed Specialist          lastminute.com group   \n",
       "2             Inside Sales- Data Analytics              The Higher Pitch   \n",
       "3            Data Engineer - Search - Link                 Veeva Systems   \n",
       "4            Veeva Systems - Data Engineer                 Veeva Systems   \n",
       "...                                     ...                          ...   \n",
       "77495  Senior Software Engineer-Technology                  cardekho.com   \n",
       "77496                    Digital Marketing         cirkle studio pvt ltd   \n",
       "77497              VP ,Treaty Underwriting   QBE Insurance Group Limited   \n",
       "77498           Business Analyst With IIBA                   WHITE FORCE   \n",
       "77499                       Java Developer                   WHITE FORCE   \n",
       "\n",
       "                                         skills_required experience  \\\n",
       "0      visualization,business requirements,data scien...        6-9   \n",
       "1                          mobile,team player,Productsup        0-3   \n",
       "2      demand generation,campaigns,webinar,performanc...        2-6   \n",
       "3      algorithms,lucene,elastic search,apache,java,s...        0-3   \n",
       "4      algorithms,apache,java,san,python,machine lear...        0-3   \n",
       "...                                                  ...        ...   \n",
       "77495  senior software engineer,sql,elastic search,da...        3-5   \n",
       "77496       digital marketing,social media,Web Analytics        2-5   \n",
       "77497  accounting,loss,legal,forecasting,budget plann...       7-10   \n",
       "77498  information technology,java,system development...       7-10   \n",
       "77499  jsp,hibernate,sql,spring,security,wsdl,java,xm...       5-10   \n",
       "\n",
       "                    location  min_exp  max_exp  \n",
       "0      Bengaluru / Bangalore        6        9  \n",
       "1                Switzerland        0        3  \n",
       "2        Noida/Greater Noida        2        6  \n",
       "3                      Spain        0        3  \n",
       "4                      Spain        0        3  \n",
       "...                      ...      ...      ...  \n",
       "77495                Gurgaon        3        5  \n",
       "77496                  Surat        2        5  \n",
       "77497                    NaN        7       10  \n",
       "77498                Gurgaon        7       10  \n",
       "77499                Gurgaon        5       10  \n",
       "\n",
       "[77500 rows x 7 columns]"
      ]
     },
     "execution_count": 8,
     "metadata": {},
     "output_type": "execute_result"
    }
   ],
   "source": [
    "data"
   ]
  },
  {
   "cell_type": "code",
   "execution_count": 9,
   "id": "818b8e8e",
   "metadata": {},
   "outputs": [],
   "source": [
    "data['job title1'] = data['job title'].str.contains('Data')"
   ]
  },
  {
   "cell_type": "code",
   "execution_count": 10,
   "id": "f293f0a8",
   "metadata": {},
   "outputs": [],
   "source": [
    "new = data[data['job title1'] != False]\n",
    "new = pd.DataFrame(new)"
   ]
  },
  {
   "cell_type": "code",
   "execution_count": 11,
   "id": "10c6554a",
   "metadata": {},
   "outputs": [],
   "source": [
    "new['python'] = new['skills_required'].str.contains('python')\n",
    "new['sql'] = new['skills_required'].str.contains('sql')\n",
    "new['data'] = new['skills_required'].str.contains('data')\n",
    "new['nosql'] = new['skills_required'].str.contains('nosql')\n",
    "new_data = new[['min_exp', 'max_exp', 'python', 'sql', 'data', 'nosql']]"
   ]
  },
  {
   "cell_type": "code",
   "execution_count": 12,
   "id": "d9fb5bb0",
   "metadata": {},
   "outputs": [],
   "source": [
    "py = new_data['python'].value_counts()[1]\n",
    "sql = new_data['sql'].value_counts()[1]\n",
    "dat = new_data['data'].value_counts()[1]\n",
    "nosql = new_data['nosql'].value_counts()[1]\n",
    "skills = [py, sql, dat, nosql]"
   ]
  },
  {
   "cell_type": "code",
   "execution_count": 13,
   "id": "d65a7788",
   "metadata": {},
   "outputs": [],
   "source": [
    "#skills = pd.DataFrame({'python':py, 'sql': sql, 'data_related': dat, 'nosql':nosql})\n",
    "skills = pd.DataFrame({'skill':['python', 'sql', 'data_related', 'nosql'],\n",
    "                      'frequency':skills},)"
   ]
  },
  {
   "cell_type": "code",
   "execution_count": 14,
   "id": "693d9bd7",
   "metadata": {},
   "outputs": [
    {
     "data": {
      "text/html": [
       "<div>\n",
       "<style scoped>\n",
       "    .dataframe tbody tr th:only-of-type {\n",
       "        vertical-align: middle;\n",
       "    }\n",
       "\n",
       "    .dataframe tbody tr th {\n",
       "        vertical-align: top;\n",
       "    }\n",
       "\n",
       "    .dataframe thead th {\n",
       "        text-align: right;\n",
       "    }\n",
       "</style>\n",
       "<table border=\"1\" class=\"dataframe\">\n",
       "  <thead>\n",
       "    <tr style=\"text-align: right;\">\n",
       "      <th></th>\n",
       "      <th>skill</th>\n",
       "      <th>frequency</th>\n",
       "    </tr>\n",
       "  </thead>\n",
       "  <tbody>\n",
       "    <tr>\n",
       "      <th>0</th>\n",
       "      <td>python</td>\n",
       "      <td>1647</td>\n",
       "    </tr>\n",
       "    <tr>\n",
       "      <th>1</th>\n",
       "      <td>sql</td>\n",
       "      <td>2318</td>\n",
       "    </tr>\n",
       "    <tr>\n",
       "      <th>2</th>\n",
       "      <td>data_related</td>\n",
       "      <td>2661</td>\n",
       "    </tr>\n",
       "    <tr>\n",
       "      <th>3</th>\n",
       "      <td>nosql</td>\n",
       "      <td>588</td>\n",
       "    </tr>\n",
       "  </tbody>\n",
       "</table>\n",
       "</div>"
      ],
      "text/plain": [
       "          skill  frequency\n",
       "0        python       1647\n",
       "1           sql       2318\n",
       "2  data_related       2661\n",
       "3         nosql        588"
      ]
     },
     "execution_count": 14,
     "metadata": {},
     "output_type": "execute_result"
    }
   ],
   "source": [
    "skills"
   ]
  },
  {
   "cell_type": "code",
   "execution_count": 15,
   "id": "7cc93b9a",
   "metadata": {},
   "outputs": [
    {
     "data": {
      "text/plain": [
       "<AxesSubplot:title={'center':'Skills Required for Data Science Job'}, ylabel='frequency'>"
      ]
     },
     "execution_count": 15,
     "metadata": {},
     "output_type": "execute_result"
    },
    {
     "data": {
      "image/png": "[encoded data removed]",
      "text/plain": [
       "<Figure size 432x288 with 1 Axes>"
      ]
     },
     "metadata": {},
     "output_type": "display_data"
    }
   ],
   "source": [
    "skills.groupby(['skill']).sum().plot(kind='pie', x= 'skill',y='frequency', autopct='%1.0f%%', title = 'Skills Required for Data Science Job')"
   ]
  },
  {
   "cell_type": "code",
   "execution_count": 16,
   "id": "c0caf13c",
   "metadata": {},
   "outputs": [
    {
     "data": {
      "text/html": [
       "<div>\n",
       "<style scoped>\n",
       "    .dataframe tbody tr th:only-of-type {\n",
       "        vertical-align: middle;\n",
       "    }\n",
       "\n",
       "    .dataframe tbody tr th {\n",
       "        vertical-align: top;\n",
       "    }\n",
       "\n",
       "    .dataframe thead th {\n",
       "        text-align: right;\n",
       "    }\n",
       "</style>\n",
       "<table border=\"1\" class=\"dataframe\">\n",
       "  <thead>\n",
       "    <tr style=\"text-align: right;\">\n",
       "      <th></th>\n",
       "      <th>min_exp</th>\n",
       "      <th>max_exp</th>\n",
       "      <th>python</th>\n",
       "      <th>sql</th>\n",
       "      <th>data</th>\n",
       "      <th>nosql</th>\n",
       "    </tr>\n",
       "  </thead>\n",
       "  <tbody>\n",
       "    <tr>\n",
       "      <th>0</th>\n",
       "      <td>6</td>\n",
       "      <td>9</td>\n",
       "      <td>0</td>\n",
       "      <td>0</td>\n",
       "      <td>1</td>\n",
       "      <td>0</td>\n",
       "    </tr>\n",
       "    <tr>\n",
       "      <th>1</th>\n",
       "      <td>0</td>\n",
       "      <td>3</td>\n",
       "      <td>0</td>\n",
       "      <td>0</td>\n",
       "      <td>0</td>\n",
       "      <td>0</td>\n",
       "    </tr>\n",
       "    <tr>\n",
       "      <th>2</th>\n",
       "      <td>2</td>\n",
       "      <td>6</td>\n",
       "      <td>0</td>\n",
       "      <td>0</td>\n",
       "      <td>0</td>\n",
       "      <td>0</td>\n",
       "    </tr>\n",
       "    <tr>\n",
       "      <th>3</th>\n",
       "      <td>0</td>\n",
       "      <td>3</td>\n",
       "      <td>1</td>\n",
       "      <td>0</td>\n",
       "      <td>0</td>\n",
       "      <td>0</td>\n",
       "    </tr>\n",
       "    <tr>\n",
       "      <th>4</th>\n",
       "      <td>0</td>\n",
       "      <td>3</td>\n",
       "      <td>1</td>\n",
       "      <td>0</td>\n",
       "      <td>0</td>\n",
       "      <td>0</td>\n",
       "    </tr>\n",
       "    <tr>\n",
       "      <th>...</th>\n",
       "      <td>...</td>\n",
       "      <td>...</td>\n",
       "      <td>...</td>\n",
       "      <td>...</td>\n",
       "      <td>...</td>\n",
       "      <td>...</td>\n",
       "    </tr>\n",
       "    <tr>\n",
       "      <th>77158</th>\n",
       "      <td>0</td>\n",
       "      <td>3</td>\n",
       "      <td>0</td>\n",
       "      <td>1</td>\n",
       "      <td>1</td>\n",
       "      <td>0</td>\n",
       "    </tr>\n",
       "    <tr>\n",
       "      <th>77297</th>\n",
       "      <td>4</td>\n",
       "      <td>6</td>\n",
       "      <td>0</td>\n",
       "      <td>0</td>\n",
       "      <td>0</td>\n",
       "      <td>0</td>\n",
       "    </tr>\n",
       "    <tr>\n",
       "      <th>77448</th>\n",
       "      <td>0</td>\n",
       "      <td>3</td>\n",
       "      <td>0</td>\n",
       "      <td>0</td>\n",
       "      <td>1</td>\n",
       "      <td>0</td>\n",
       "    </tr>\n",
       "    <tr>\n",
       "      <th>77451</th>\n",
       "      <td>4</td>\n",
       "      <td>7</td>\n",
       "      <td>0</td>\n",
       "      <td>1</td>\n",
       "      <td>1</td>\n",
       "      <td>0</td>\n",
       "    </tr>\n",
       "    <tr>\n",
       "      <th>77464</th>\n",
       "      <td>1</td>\n",
       "      <td>3</td>\n",
       "      <td>0</td>\n",
       "      <td>0</td>\n",
       "      <td>1</td>\n",
       "      <td>0</td>\n",
       "    </tr>\n",
       "  </tbody>\n",
       "</table>\n",
       "<p>5531 rows × 6 columns</p>\n",
       "</div>"
      ],
      "text/plain": [
       "       min_exp  max_exp  python  sql  data  nosql\n",
       "0            6        9       0    0     1      0\n",
       "1            0        3       0    0     0      0\n",
       "2            2        6       0    0     0      0\n",
       "3            0        3       1    0     0      0\n",
       "4            0        3       1    0     0      0\n",
       "...        ...      ...     ...  ...   ...    ...\n",
       "77158        0        3       0    1     1      0\n",
       "77297        4        6       0    0     0      0\n",
       "77448        0        3       0    0     1      0\n",
       "77451        4        7       0    1     1      0\n",
       "77464        1        3       0    0     1      0\n",
       "\n",
       "[5531 rows x 6 columns]"
      ]
     },
     "execution_count": 16,
     "metadata": {},
     "output_type": "execute_result"
    }
   ],
   "source": [
    "new_data = new_data*1\n",
    "new_data"
   ]
  },
  {
   "cell_type": "code",
   "execution_count": 17,
   "id": "4bfac24e",
   "metadata": {},
   "outputs": [
    {
     "data": {
      "text/html": [
       "<div>\n",
       "<style scoped>\n",
       "    .dataframe tbody tr th:only-of-type {\n",
       "        vertical-align: middle;\n",
       "    }\n",
       "\n",
       "    .dataframe tbody tr th {\n",
       "        vertical-align: top;\n",
       "    }\n",
       "\n",
       "    .dataframe thead th {\n",
       "        text-align: right;\n",
       "    }\n",
       "</style>\n",
       "<table border=\"1\" class=\"dataframe\">\n",
       "  <thead>\n",
       "    <tr style=\"text-align: right;\">\n",
       "      <th></th>\n",
       "      <th>min_exp</th>\n",
       "      <th>max_exp</th>\n",
       "      <th>python</th>\n",
       "      <th>sql</th>\n",
       "      <th>data</th>\n",
       "      <th>nosql</th>\n",
       "    </tr>\n",
       "  </thead>\n",
       "  <tbody>\n",
       "    <tr>\n",
       "      <th>min_exp</th>\n",
       "      <td>1.000000</td>\n",
       "      <td>0.946826</td>\n",
       "      <td>0.072417</td>\n",
       "      <td>0.145007</td>\n",
       "      <td>0.102789</td>\n",
       "      <td>0.097092</td>\n",
       "    </tr>\n",
       "    <tr>\n",
       "      <th>max_exp</th>\n",
       "      <td>0.946826</td>\n",
       "      <td>1.000000</td>\n",
       "      <td>0.074953</td>\n",
       "      <td>0.140409</td>\n",
       "      <td>0.097510</td>\n",
       "      <td>0.127008</td>\n",
       "    </tr>\n",
       "    <tr>\n",
       "      <th>python</th>\n",
       "      <td>0.072417</td>\n",
       "      <td>0.074953</td>\n",
       "      <td>1.000000</td>\n",
       "      <td>0.438125</td>\n",
       "      <td>0.106526</td>\n",
       "      <td>0.235903</td>\n",
       "    </tr>\n",
       "    <tr>\n",
       "      <th>sql</th>\n",
       "      <td>0.145007</td>\n",
       "      <td>0.140409</td>\n",
       "      <td>0.438125</td>\n",
       "      <td>1.000000</td>\n",
       "      <td>0.302735</td>\n",
       "      <td>0.406062</td>\n",
       "    </tr>\n",
       "    <tr>\n",
       "      <th>data</th>\n",
       "      <td>0.102789</td>\n",
       "      <td>0.097510</td>\n",
       "      <td>0.106526</td>\n",
       "      <td>0.302735</td>\n",
       "      <td>1.000000</td>\n",
       "      <td>0.135135</td>\n",
       "    </tr>\n",
       "    <tr>\n",
       "      <th>nosql</th>\n",
       "      <td>0.097092</td>\n",
       "      <td>0.127008</td>\n",
       "      <td>0.235903</td>\n",
       "      <td>0.406062</td>\n",
       "      <td>0.135135</td>\n",
       "      <td>1.000000</td>\n",
       "    </tr>\n",
       "  </tbody>\n",
       "</table>\n",
       "</div>"
      ],
      "text/plain": [
       "          min_exp   max_exp    python       sql      data     nosql\n",
       "min_exp  1.000000  0.946826  0.072417  0.145007  0.102789  0.097092\n",
       "max_exp  0.946826  1.000000  0.074953  0.140409  0.097510  0.127008\n",
       "python   0.072417  0.074953  1.000000  0.438125  0.106526  0.235903\n",
       "sql      0.145007  0.140409  0.438125  1.000000  0.302735  0.406062\n",
       "data     0.102789  0.097510  0.106526  0.302735  1.000000  0.135135\n",
       "nosql    0.097092  0.127008  0.235903  0.406062  0.135135  1.000000"
      ]
     },
     "execution_count": 17,
     "metadata": {},
     "output_type": "execute_result"
    }
   ],
   "source": [
    "new_data.corr()"
   ]
  },
  {
   "cell_type": "code",
   "execution_count": 18,
   "id": "86d28615",
   "metadata": {},
   "outputs": [
    {
     "data": {
      "text/plain": [
       "Text(0, 0.5, 'Frequency')"
      ]
     },
     "execution_count": 18,
     "metadata": {},
     "output_type": "execute_result"
    },
    {
     "data": {
      "image/png": "[encoded data removed]",
      "text/plain": [
       "<Figure size 432x288 with 1 Axes>"
      ]
     },
     "metadata": {
      "needs_background": "light"
     },
     "output_type": "display_data"
    }
   ],
   "source": [
    "plot1 = new_data['min_exp'].value_counts().plot(kind='bar', title = \"Minimum Years for Data Science Job\", rot = 0, color = 'turquoise')\n",
    "plot1.set_xlabel(\"Number of Years\")\n",
    "plot1.set_ylabel(\"Frequency\")"
   ]
  },
  {
   "cell_type": "code",
   "execution_count": 19,
   "id": "0dac3246",
   "metadata": {},
   "outputs": [
    {
     "data": {
      "text/plain": [
       "Text(0, 0.5, 'Frequency')"
      ]
     },
     "execution_count": 19,
     "metadata": {},
     "output_type": "execute_result"
    },
    {
     "data": {
      "image/png": "[encoded data removed]",
      "text/plain": [
       "<Figure size 432x288 with 1 Axes>"
      ]
     },
     "metadata": {
      "needs_background": "light"
     },
     "output_type": "display_data"
    }
   ],
   "source": [
    "plot2 = new_data['max_exp'].value_counts().plot(kind='bar', title = \"Maximum Years for Data Science Job\", color = 'purple', rot = 0)\n",
    "plot2.set_xlabel(\"Number of Years\")\n",
    "plot2.set_ylabel(\"Frequency\")"
   ]
  },
  {
   "cell_type": "code",
   "execution_count": 20,
   "id": "e501f6d2",
   "metadata": {},
   "outputs": [
    {
     "data": {
      "text/plain": [
       "3     1717\n",
       "8      757\n",
       "6      527\n",
       "5      526\n",
       "7      350\n",
       "10     337\n",
       "11     308\n",
       "9      190\n",
       "4      159\n",
       "2      150\n",
       "15     130\n",
       "13     110\n",
       "1      100\n",
       "12      70\n",
       "18      60\n",
       "20      20\n",
       "14      10\n",
       "17      10\n",
       "Name: max_exp, dtype: int64"
      ]
     },
     "execution_count": 20,
     "metadata": {},
     "output_type": "execute_result"
    }
   ],
   "source": [
    "new_data['max_exp'].value_counts()"
   ]
  },
  {
   "cell_type": "code",
   "execution_count": 21,
   "id": "e6fb9f31",
   "metadata": {},
   "outputs": [
    {
     "data": {
      "text/plain": [
       "0     1795\n",
       "5      777\n",
       "2      595\n",
       "3      587\n",
       "4      390\n",
       "8      328\n",
       "7      279\n",
       "6      240\n",
       "1      200\n",
       "10     130\n",
       "12     130\n",
       "15      60\n",
       "9       10\n",
       "14      10\n",
       "Name: min_exp, dtype: int64"
      ]
     },
     "execution_count": 21,
     "metadata": {},
     "output_type": "execute_result"
    }
   ],
   "source": [
    "new_data['min_exp'].value_counts()"
   ]
  },
  {
   "cell_type": "code",
   "execution_count": 22,
   "id": "8862ee0a",
   "metadata": {},
   "outputs": [
    {
     "data": {
      "text/plain": [
       "5531"
      ]
     },
     "execution_count": 22,
     "metadata": {},
     "output_type": "execute_result"
    }
   ],
   "source": [
    "len(new_data)"
   ]
  },
  {
   "cell_type": "code",
   "execution_count": 24,
   "id": "130b8cdb",
   "metadata": {},
   "outputs": [
    {
     "data": {
      "text/plain": [
       "Cognizant Technology Solutions     240\n",
       "Analytics Vidhya                   200\n",
       "Citibank India                     199\n",
       "Careem                             180\n",
       "Bold Business                      180\n",
       "                                  ... \n",
       "BUSISOL SOURCING INDIA PVT. LTD      9\n",
       "3D PLM Software Solutions Ltd        9\n",
       "alexandria carbon black co ltd       9\n",
       "nutanxt technologies                 9\n",
       "ConcertAI                            8\n",
       "Name: company_name, Length: 224, dtype: int64"
      ]
     },
     "execution_count": 24,
     "metadata": {},
     "output_type": "execute_result"
    }
   ],
   "source": [
    "new['company_name'].value_counts()"
   ]
  },
  {
   "cell_type": "code",
   "execution_count": null,
   "id": "ae6168c4",
   "metadata": {},
   "outputs": [],
   "source": []
  }
 ],
 "metadata": {
  "kernelspec": {
   "display_name": "Python 3 (ipykernel)",
   "language": "python",
   "name": "python3"
  },
  "language_info": {
   "codemirror_mode": {
    "name": "ipython",
    "version": 3
   },
   "file_extension": ".py",
   "mimetype": "text/x-python",
   "name": "python",
   "nbconvert_exporter": "python",
   "pygments_lexer": "ipython3",
   "version": "3.9.7"
  }
 },
 "nbformat": 4,
 "nbformat_minor": 5
}
